{
 "cells": [
  {
   "cell_type": "markdown",
   "id": "a8747b04-20d5-46f1-b9e3-340db90c7b40",
   "metadata": {},
   "source": [
    "# РГР 3. Классификация линейных уравнений в частных производных второго порядка.\n",
    "\n",
    "__Задание.__ Определить тип уравнения в частных производных второго порядка\n",
    "$$ u_{xx} - 4 u_{xy} - 32 u_{yy} = 0, $$\n",
    "привести его к каноническому виду, найти его общее решение и сделать проверку."
   ]
  },
  {
   "cell_type": "markdown",
   "id": "7e3516db-f4a4-4973-bf08-8915d8e9bc58",
   "metadata": {},
   "source": [
    "_Шаг 1._ Определим константы.\n",
    "\n",
    "Уравнение в общем виде:\n",
    "$$ a_{11} u_{xx} + 2 a_{12} u_{xy} + a_{22} u_{yy} + b_1 u_x + b_2 u_y + c u = 0.$$\n",
    "Следовательно,\n",
    "$$ a_{11} = 1, \\ a_{12} = -2, \\ a_{22} = -32, \\ b_1 = b_2 = c = 0.$$"
   ]
  },
  {
   "cell_type": "markdown",
   "id": "f8bc9b9a-53f2-45e3-92c9-6c7a605c86ab",
   "metadata": {},
   "source": [
    "_Шаг 2._ Составим характеристическое уравнение:\n",
    "$$ a_{11} (dy)^2 - 2 a_{12} dx dy + a_{22} (dx)^2 = 0.$$\n",
    "\n",
    "В нашем случае:\n",
    "$$ (dy)^2 + 4 dx dy - 32 (dx)^2 = 0.$$"
   ]
  },
  {
   "cell_type": "markdown",
   "id": "5a834f2f-48cb-4ef0-b4ec-54265c7fe390",
   "metadata": {},
   "source": [
    "_Шаг 3._ Определим тип исходного уравнения, решая характеристическое.\n",
    "Для этого делим характеристическое уравнение на $dx^2 \\neq 0$.\n",
    "$$ a_{11} \\left( \\dfrac{dy}{dx} \\right)^2 - 2 a_{12} \\dfrac{dy}{dx} + a_{22} = 0.$$\n",
    "Получим дискриминант, деленный на 4, полученного квадратного уравнения:\n",
    "$$ \\Delta = a_{12}^2 - a_{11} a_{22}. $$\n",
    "\n",
    "В нашем случае:\n",
    "$$ \\left( \\dfrac{dy}{dx} \\right)^2 + 4 \\dfrac{dy}{dx} -  32 = 0. $$\n",
    "$$ \\Delta = \\left( -2 \\right)^2 - 1 \\cdot (-32) = 4 + 32 = 36. $$\n",
    "Так как $\\Delta = 36 > 0$, следовательно, уравнение __гиперболического__ типа."
   ]
  },
  {
   "cell_type": "markdown",
   "id": "25cc4d46-9305-484e-99e4-101bf493d2cd",
   "metadata": {},
   "source": [
    "_Шаг 4._ Решим характеристическое (квадратное) уравнение.\n",
    "$$ \\dfrac{dy}{dx} = \\dfrac{a_{12} \\pm \\sqrt{\\Delta}}{a_11} = \\dfrac{-2 \\pm 6}{1}. $$\n",
    "Получили два обыкновенных дифференциальных уравнения:\n",
    "$$\n",
    "    \\begin{cases}\n",
    "    dy = 4 dx \\\\\n",
    "    dy = -8 dx\n",
    "    \\end{cases}\n",
    "    \\Rightarrow\n",
    "    \\begin{cases}\n",
    "    y - 4x = C \\\\\n",
    "    y + 8x = C\n",
    "    \\end{cases}\n",
    "$$\n",
    "Замена:\n",
    "$$\n",
    "    \\begin{cases}\n",
    "    \\xi = y - 4x \\\\\n",
    "    \\eta = y + 8x\n",
    "    \\end{cases}\n",
    "$$"
   ]
  },
  {
   "cell_type": "markdown",
   "id": "d22eb203-7c51-4361-8d8c-41be3eae4635",
   "metadata": {},
   "source": [
    "_Шаг 5._ Переходим к новым переменным, используя полученную замену:\n",
    "$$ (x, y) \\rightarrow (\\xi, \\eta), \\quad u(x, y) \\rightarrow u(\\xi, \\eta). $$\n",
    "\n",
    "Для этого посчитаем необходимые нам производные:\n",
    "$$ \\xi_x = -4, \\quad \\eta_x = 8, $$\n",
    "$$ \\xi_y = 1, \\quad \\eta_y = 1, $$\n",
    "$$ \\xi_{xx} = \\dots = \\eta_{yy} = 0.$$\n",
    "\n",
    "Переход к новым переменным:\n",
    "$$ u_x = u_\\xi \\xi_x + u_\\eta \\eta_x = -4 u_\\xi + 8 u_\\eta. $$\n",
    "$$ u_y = u_\\xi \\xi_y + u_\\eta \\eta_y = u_\\xi + u_\\eta. $$\n",
    "$$ u_{xx} = u_{\\xi\\xi} \\xi_x^2 + 2 u_{\\xi\\eta} \\xi_x \\eta_x + u_{\\eta\\eta} \\eta_x^2 + u_\\xi \\xi_{xx} + u_\\eta \\eta_{xx} = 16 u_{\\xi\\xi} - 64 u_{\\xi\\eta} + 64 u_{\\eta\\eta}. $$\n",
    "$$ u_{xy} = u_{\\xi\\xi} \\xi_x \\xi_y + u_{\\xi\\eta} \\left( \\xi_x \\eta_y + \\xi_y \\eta_x \\right) + u_{\\eta\\eta} \\eta_x \\eta_y + u_\\xi \\xi_{xy} + u_\\eta \\eta_{xy} = -4 u_{\\xi\\xi} + 4 u_{\\xi\\eta} + 8 u_{\\eta\\eta}. $$\n",
    "$$ u_{yy} = u_{\\xi\\xi} \\xi_y^2 + 2 u_{\\xi\\eta} \\xi_y \\eta_y + u_{\\eta\\eta} \\eta_y^2 + u_\\xi \\xi_{yy} + u_\\eta \\eta_{yy} = u_{\\xi\\xi} + 2 u_{\\xi\\eta} + u_{\\eta\\eta}. $$\n",
    "\n",
    "Подставим:\n",
    "\n",
    "| $(x, y)$      ||                |                  |                  |\n",
    "| ------------: || :------------: | :--------------: | :--------------: |\n",
    "| $u_{xx}$      || $16u_{\\xi\\xi}$ | $-64u_{\\xi\\eta}$ | $64u_{\\eta\\eta}$ |\n",
    "| $+$           ||                |                  |                  |\n",
    "| $-4 u_{xy}$   || $16u_{\\xi\\xi}$ | $-16u_{\\xi\\eta}$ | $-32u_{\\eta\\eta}$|\n",
    "| $+$           ||                |                  |                  |\n",
    "| $-32 u_{yy}$  || $-32u_{\\xi\\xi}$| $-64u_{\\xi\\eta}$ | $-32u_{\\eta\\eta}$|\n",
    "|               ||                | $-144u_{\\xi\\eta}$|                  |\n",
    "\n",
    "Получили:\n",
    "$$ -144u_{\\xi\\eta} = 0. $$\n",
    "\n",
    "Разделяя на $-144$ получаем окончательный __канонический вид__:\n",
    "$$ u_{\\xi\\eta} = 0. $$"
   ]
  },
  {
   "cell_type": "markdown",
   "id": "6da65d4b-d4da-4bed-89dc-b27c4acdaa76",
   "metadata": {},
   "source": [
    "_Шаг 6._ Поиск общего решения канонического уравнения.\n",
    "\n",
    "Сделаем замену\n",
    "$$ u_\\xi = v. $$\n",
    "$$ v_\\eta = 0 \\ \\Rightarrow \\ v = C(\\xi) \\ \\Rightarrow \\ u_\\xi = C(\\xi), $$\n",
    "$$ u = \\int C(\\xi) d\\xi = f(\\xi) + g(\\eta). $$\n",
    "\n",
    "__Общее решение в канонических переменных__:\n",
    "$$ u(\\xi, \\eta) = f(\\xi) + g(\\eta). $$\n",
    "\n",
    "__Общее решение в исходных переменных__:\n",
    "$$ u(x, y) = f(y - 4x) + g(y + 8x). $$"
   ]
  },
  {
   "cell_type": "markdown",
   "id": "145509c6-79a5-438f-bfc6-bdb2c8b680b6",
   "metadata": {},
   "source": [
    "_Шаг 7._ Проверка.\n",
    "\n",
    "Возьмем, например, за $f(\\xi)$ и $g(\\eta)$ следующие функции:\n",
    "$$ f(\\xi) = \\xi^2, \\quad g(\\eta) = \\eta^2. $$\n",
    "Тогда\n",
    "$$ u(\\xi, \\eta) = \\xi^2 + \\eta^2 $$\n",
    "$$ u(x, y) = (y - 4x)^2 + (y + 8x)^2 = 2 y^2 + 8 x y + 80 x^2. $$\n",
    "Найдем необходимые производные:\n",
    "$$ u_x = 8 y + 160 x, $$\n",
    "$$ u_y = 4 y + 8 x, $$\n",
    "$$ u_{xx} = 160, \\quad u_{yy} = 4, \\quad u_{xy} = 8. $$\n",
    "\n",
    "Подставляем в исходное уравнение:\n",
    "$$ 160 - 4 \\cdot 8 - 32 \\cdot 4 = 160 - 32 - 128 = 0. $$\n",
    "\n",
    "Получили тождество, что и следовало доказать."
   ]
  },
  {
   "cell_type": "code",
   "execution_count": null,
   "id": "50d22b8a-7e28-486d-b388-94ce734c870e",
   "metadata": {},
   "outputs": [],
   "source": []
  }
 ],
 "metadata": {
  "kernelspec": {
   "display_name": "Python 3",
   "language": "python",
   "name": "python3"
  },
  "language_info": {
   "codemirror_mode": {
    "name": "ipython",
    "version": 3
   },
   "file_extension": ".py",
   "mimetype": "text/x-python",
   "name": "python",
   "nbconvert_exporter": "python",
   "pygments_lexer": "ipython3",
   "version": "3.7.11"
  }
 },
 "nbformat": 4,
 "nbformat_minor": 5
}
